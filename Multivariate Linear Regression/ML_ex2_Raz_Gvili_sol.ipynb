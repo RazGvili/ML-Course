{
 "cells": [
  {
   "cell_type": "markdown",
   "metadata": {},
   "source": [
    "## Machine Learning - Ex.2\n",
    "\n",
    "\n",
    "Submitted by: **Raz Gvili**"
   ]
  },
  {
   "cell_type": "code",
   "execution_count": 141,
   "metadata": {},
   "outputs": [],
   "source": [
    "%matplotlib inline\n",
    "\n",
    "import numpy as np\n",
    "import matplotlib.pyplot as plt"
   ]
  },
  {
   "cell_type": "code",
   "execution_count": 218,
   "metadata": {},
   "outputs": [],
   "source": [
    "def step_gradient(X, y, w_vec, learning_rate, sampels_amount):\n",
    "        \n",
    "    w_grad = np.zeros(w_vec.size)\n",
    "    \n",
    "    # update each param\n",
    "    for w_param in range(0, w_vec.size):\n",
    "        \n",
    "        # sum of all sampels for each w_param \n",
    "        for sample in range(0, sampels_amount):\n",
    "            w_grad[w_param] = (((np.dot(w_vec, X[sample])) - y[sample]) * X[sample][w_param])\n",
    "            \n",
    "        w_grad[w_param] *= (1/float(sampels_amount))\n",
    "    \n",
    "    next_w = w_vec - (learning_rate * w_grad)\n",
    "    \n",
    "    for sample in range(0, sampels_amount):\n",
    "        J = (((np.dot(w_vec, X[sample])) - y[sample]) * (1/float(sampels_amount)))\n",
    "    \n",
    "    return J, next_w"
   ]
  },
  {
   "cell_type": "markdown",
   "metadata": {},
   "source": [
    "## Multivariate Linear Regression\n",
    "\n",
    "In this exercise we will implement a gradient descent algorithm to solve multivariate linear regression problems.\n",
    "\n",
    "Then, we will test our algorithm on two different problems:\n",
    "\n",
    "1. A simple 2-D dataset of housing prices: house price $y$ (in $) as a function of its living area $x_1$ (in square feet) and the number of bedrooms $x_2$.\n",
    "\n",
    "2. A *non-linear* 1-D problem. \n",
    "\n",
    "\n",
    "\n",
    "As a first step, **implement the gradient descent algorithm** (for multivariate linear regression) as discussed in class.\n",
    "\n",
    "The algorithm should get the $N\\times (d+1)$ design matrix $X$ containing all the features ($N$ data samples, each one consists of $d+1$ features) and an $N$-vector of the corresponding $y$ values.\n",
    "\n",
    "The algorithm starts from an initial guess of $\\vec{w}\\in\\mathcal{R}^{d+1}$ of a vector of zeros, and iterates over the update rule for $T$ steps.\n",
    "\n",
    "The algorithm returns the final weights vector: $\\vec{w}^{(T)}=(w_0,w_1,...,w_d)$, and the values of the cost function along the run: $\\vec{J}=(J^{(1)},J^{(2)},...,J^{(T)})$.\n"
   ]
  },
  {
   "cell_type": "code",
   "execution_count": 219,
   "metadata": {},
   "outputs": [],
   "source": [
    "def gradient_descent (X, y, alpha=0.000001, T=100):\n",
    "    \n",
    "    sampels_amount = X[:,0].size\n",
    "    \n",
    "    ones = np.ones((sampels_amount,1))\n",
    "    X = np.hstack((ones, X))\n",
    "    \n",
    "    # to hold the cost function value J at each iteration\n",
    "    J = np.zeros(T)\n",
    "    \n",
    "    # initial guess \n",
    "    w = np.zeros(X.shape[1])\n",
    "    \n",
    "    for i in range(T):\n",
    "        J[i], w = step_gradient(X, y, w, alpha, sampels_amount)\n",
    "    \n",
    "    return w, J"
   ]
  },
  {
   "cell_type": "markdown",
   "metadata": {},
   "source": [
    "### 1. Housing problem (simplified version)\n",
    "\n",
    "Download and import the dataset files: `ex2x.dat` and `ex2y.dat`.\n",
    "\n",
    "Explore the dataset: \n",
    "- How many samples it has? **47**\n",
    "- How many features each of the samples has? **2** \n",
    "- Are the features discrete or continous? **discrete**\n",
    "- What is the range of each of the features (min to max)? **size: 852.0 - 4478.0 , rooms: 1.0 - 5.0**\n",
    "- What is the range of the target values (the prices)? **price:169900.0 - 699900.0**"
   ]
  },
  {
   "cell_type": "code",
   "execution_count": 220,
   "metadata": {},
   "outputs": [
    {
     "name": "stdout",
     "output_type": "stream",
     "text": [
      "x\n",
      "sampels:  47\n",
      "sampels features:  2\n",
      "feature 1 range (size of aprt): 852.0 - 4478.0\n",
      "feature 2 range (room amount): 1.0 - 5.0\n",
      "\n",
      "y\n",
      "price range: 169900.0 - 699900.0\n"
     ]
    }
   ],
   "source": [
    "x = np.loadtxt('ex2x.dat')\n",
    "y = np.loadtxt('ex2y.dat')\n",
    "\n",
    "print(\"x\")\n",
    "print(\"sampels: \", x[:,0].size)\n",
    "print(\"sampels features: \", x.shape[1])\n",
    "print(\"feature 1 range (size of aprt):\", min(x[:,0]), \"-\", max(x[:,0]))\n",
    "print(\"feature 2 range (room amount):\", min(x[:,1]), \"-\", max(x[:,1]))\n",
    "\n",
    "print(\"\")\n",
    "\n",
    "print(\"y\")\n",
    "print(\"price range:\", min(y), \"-\", max(y))"
   ]
  },
  {
   "cell_type": "markdown",
   "metadata": {},
   "source": [
    "Use your gradient descent algorithm to find an optimal solution $\\vec{w}$ for the multivariate linear model:\n",
    "\n",
    "$$ \\hat{y} = w_0 + w_1 x_1 + w_2 x_2 $$\n",
    "\n",
    "where $x_1$ is the house area and $x_2$ is the number of bedrooms. (hint: don't forget to add a column of `ones` to  the design matrix $X$).\n",
    "\n",
    "- Verify that the algorithm has indeed converged by ploting the graph of $J(t)$). If the graph diverges, try to decrease the learning rate by a factor of 10.\n",
    "- Print the values of the final $\\vec{w}$.\n",
    "- Use $\\vec{w}$ to estimate the price of a house with 1650 square feet and 3 bedroom (hint: should be around 300,000$).\n",
    "\n"
   ]
  },
  {
   "cell_type": "code",
   "execution_count": 228,
   "metadata": {},
   "outputs": [
    {
     "data": {
      "image/png": "[encoded data removed]",
      "text/plain": [
       "<Figure size 432x288 with 1 Axes>"
      ]
     },
     "metadata": {
      "needs_background": "light"
     },
     "output_type": "display_data"
    },
    {
     "name": "stdout",
     "output_type": "stream",
     "text": [
      "w0:  0.16517199358360257\n",
      "w1:  198.7019082810738\n",
      "w2:  0.4955159807508077\n",
      "\n",
      "price estimation:  327859.8003837076\n"
     ]
    }
   ],
   "source": [
    "T = 200\n",
    "w, J = gradient_descent(x, y, 0.000001, T)\n",
    "t = np.linspace(0, T, T)\n",
    "\n",
    "# Plot J(t)\n",
    "plt.plot(t,J,'blue')\n",
    "plt.xlabel('t')\n",
    "plt.ylabel('J')\n",
    "plt.title('J(t)')\n",
    "plt.grid()\n",
    "plt.show()\n",
    "\n",
    "# w values \n",
    "print(\"w0: \", w[0])\n",
    "print(\"w1: \", w[1])\n",
    "print(\"w2: \", w[2])\n",
    "\n",
    "# test model accuracy \n",
    "size = 1650\n",
    "rooms = 3\n",
    "\n",
    "est = w[0] + w[1] * size + w[2] * rooms\n",
    "\n",
    "print(\"\")\n",
    "print(\"price estimation: \", est)"
   ]
  },
  {
   "cell_type": "markdown",
   "metadata": {},
   "source": [
    "### 2. Non-linear (polynomial) fit\n",
    "\n",
    "In this section we will fit to the data a **polynomial model** of degree $d$,\n",
    "\n",
    "$$ f(x;w) = w_0 + w_1 x + w_2 x^2 + ... + w_d x^d $$\n",
    "\n",
    "Lets generate some data:"
   ]
  },
  {
   "cell_type": "code",
   "execution_count": 272,
   "metadata": {},
   "outputs": [
    {
     "data": {
      "image/png": "[encoded data removed]",
      "text/plain": [
       "<Figure size 432x288 with 1 Axes>"
      ]
     },
     "metadata": {
      "needs_background": "light"
     },
     "output_type": "display_data"
    }
   ],
   "source": [
    "N = 30\n",
    "\n",
    "# generate N sample points \n",
    "x = np.linspace(0,5,N) \n",
    "y = x**3 -2*x**2 -5*x + 10 # 3rd degree polynom\n",
    "y += np.random.randn(N)*4 # add gaussian noise (with sigma = 4)\n",
    "\n",
    "# plot the data\n",
    "plt.plot(x,y,'or')\n",
    "plt.grid()\n",
    "plt.show()"
   ]
  },
  {
   "cell_type": "markdown",
   "metadata": {},
   "source": [
    "As a first step, write a function that generates a $N\\times(d+1)$ **design-matrix** from the data $\\{x_i\\}_{i=1}^N$, where the $j$-th coloumn ($j=0,1,...,d)$ contains the values of $(x_i)^j$.\n",
    "\n",
    "tip: you can use numpy's *broadcasting* technique to perform that without any loops: \n",
    "\n",
    "- http://www.labri.fr/perso/nrougier/from-python-to-numpy/index.html#broadcasting"
   ]
  },
  {
   "cell_type": "code",
   "execution_count": 306,
   "metadata": {},
   "outputs": [
    {
     "name": "stdout",
     "output_type": "stream",
     "text": [
      "[[  0   0   0]\n",
      " [  1   1   1]\n",
      " [  2   4   8]\n",
      " [  3   9  27]\n",
      " [  4  16  64]\n",
      " [  5  25 125]]\n"
     ]
    }
   ],
   "source": [
    "### Generate the design-matrix ....\n",
    "\n",
    "def design_matrix(x, d):\n",
    "\n",
    "    X = x.copy()\n",
    "    if (d > 1):\n",
    "        for i in range(2, d+1):\n",
    "            pow = i\n",
    "            X = np.hstack((X, x**pow))\n",
    "     \n",
    "    X = X.reshape((x.size,d), order='F')\n",
    "    return X  \n",
    "\n",
    "\n",
    "# test your code using this:\n",
    "test = design_matrix(np.arange(6),3)\n",
    "\n",
    "# did you get what you expect?\n",
    "print(test)\n"
   ]
  },
  {
   "cell_type": "markdown",
   "metadata": {},
   "source": [
    "Next, use your algorithm to fit a **cubic** model to the data:\n",
    "\n",
    "$$ f(x;w)=w_0 + w_1 x + w_2 x^2 + w_3 x^3 $$\n",
    "\n",
    "Verify that the algorithm has indeed converged (plot J, or better log(J), as a function of iteration).\n",
    "\n"
   ]
  },
  {
   "cell_type": "code",
   "execution_count": 326,
   "metadata": {},
   "outputs": [
    {
     "name": "stdout",
     "output_type": "stream",
     "text": [
      "parameters:  [0.00334465 0.01672323 0.08361615 0.41808076]\n"
     ]
    },
    {
     "data": {
      "image/png": "[encoded data removed]",
      "text/plain": [
       "<Figure size 432x288 with 1 Axes>"
      ]
     },
     "metadata": {
      "needs_background": "light"
     },
     "output_type": "display_data"
    }
   ],
   "source": [
    "T = 100\n",
    "\n",
    "des_mat = design_matrix(x, 3)\n",
    "\n",
    "w, J = gradient_descent(des_mat, y, 0.0002, T)\n",
    "print(\"parameters: \", w)\n",
    "\n",
    "t = np.linspace(0, T, T)\n",
    "\n",
    "# Plot J(t)\n",
    "plt.plot(t,J,'blue')\n",
    "plt.xlabel('t')\n",
    "plt.ylabel('J')\n",
    "plt.title('J(t)')\n",
    "plt.grid()\n",
    "plt.show()"
   ]
  },
  {
   "cell_type": "markdown",
   "metadata": {},
   "source": [
    "Finally, plot the sample points $\\{(x_i,y_i)\\}_{i=1}^N$ together with the fitted polynom $f(x;w)$:\n"
   ]
  },
  {
   "cell_type": "code",
   "execution_count": 348,
   "metadata": {},
   "outputs": [
    {
     "data": {
      "image/png": "[encoded data removed]",
      "text/plain": [
       "<Figure size 432x288 with 1 Axes>"
      ]
     },
     "metadata": {
      "needs_background": "light"
     },
     "output_type": "display_data"
    }
   ],
   "source": [
    "xx = np.linspace(-2.2,5.2,100) \n",
    "yy = w[0] + w[1]*xx + w[2]*xx**2 + w[3]*xx**3\n",
    "\n",
    "plt.plot(x,y,'or',xx,yy,'-k')\n",
    "plt.grid()\n",
    "plt.show()"
   ]
  },
  {
   "cell_type": "markdown",
   "metadata": {},
   "source": [
    "## Good luck !"
   ]
  }
 ],
 "metadata": {
  "anaconda-cloud": {},
  "kernelspec": {
   "display_name": "Python 3",
   "language": "python",
   "name": "python3"
  },
  "language_info": {
   "codemirror_mode": {
    "name": "ipython",
    "version": 3
   },
   "file_extension": ".py",
   "mimetype": "text/x-python",
   "name": "python",
   "nbconvert_exporter": "python",
   "pygments_lexer": "ipython3",
   "version": "3.6.8"
  }
 },
 "nbformat": 4,
 "nbformat_minor": 1
}
